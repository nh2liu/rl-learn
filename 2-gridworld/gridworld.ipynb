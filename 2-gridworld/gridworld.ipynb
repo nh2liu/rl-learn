{
 "cells": [
  {
   "cell_type": "code",
   "execution_count": 1,
   "metadata": {},
   "outputs": [],
   "source": [
    "from Gridworld import Gridworld\n",
    "import torch\n",
    "from torch.nn import functional as F\n",
    "import numpy as np\n",
    "from tqdm.notebook import tqdm\n",
    "import matplotlib.pyplot as plt\n",
    "\n",
    "from itertools import count"
   ]
  },
  {
   "cell_type": "code",
   "execution_count": 2,
   "metadata": {},
   "outputs": [],
   "source": [
    "class GridQNet(torch.nn.Module):\n",
    "    def __init__(self, size, start_epsilon = 1):\n",
    "        super().__init__()\n",
    "        self.size = size\n",
    "        n_input = size * size * 4\n",
    "        self.l1 = torch.nn.Linear(n_input, 150)\n",
    "        self.l2 = torch.nn.Linear(150, 100)\n",
    "        self.l3 = torch.nn.Linear(100, 4)\n",
    "        self.epsilon = start_epsilon\n",
    "        \n",
    "    def forward(self, x):\n",
    "        a1 = F.leaky_relu(self.l1(x))\n",
    "        a2 = F.leaky_relu(self.l2(a1))\n",
    "        qvals = self.l3(a2)\n",
    "        \n",
    "        if np.random.rand() > self.epsilon:\n",
    "            action = torch.argmax(qvals)\n",
    "        else:\n",
    "            action = np.random.randint(4)\n",
    "        return action, qvals\n",
    "    \n",
    "    def decrement_epsilon(self):\n",
    "        self.epsilon = max(self.epsilon * 0.9, 0.1)\n",
    "    "
   ]
  },
  {
   "cell_type": "code",
   "execution_count": 52,
   "metadata": {},
   "outputs": [],
   "source": [
    "loss_fn = torch.nn.MSELoss()\n",
    "\n",
    "lr = 1e-03\n",
    "gamma = 0.9\n",
    "\n",
    "action_map = ['u', 'd', 'l', 'r']\n",
    "\n",
    "def get_game_state(game, size):\n",
    "    state = game.board.render_np().reshape(1, -1) + np.random.uniform(-0.01, 0.01, size = size * size * 4)\n",
    "    return torch.from_numpy(state).float()\n",
    "\n",
    "def test_model(model, mode = 'player', display = True):\n",
    "    size = model.size\n",
    "    test_game = Gridworld(mode = mode, size = size)\n",
    "    for i in count():\n",
    "        state = get_game_state(test_game, size)\n",
    "        reward = test_game.reward()\n",
    "        if reward != -1:\n",
    "            s = 'win' if reward == 10 else 'loss'\n",
    "            print(f'Fin: {s}, {i}')\n",
    "            print(test_game.display())\n",
    "            break\n",
    "        action, _ = model(state)\n",
    "        if display:\n",
    "            print(f'Action: {action_map[action]}, {i}')\n",
    "            print(test_game.display())\n",
    "        test_game.makeMove(action_map[action])        \n",
    "\n",
    "def benchmark_model(model, iters = 1000, mode = 'random', size = 4):\n",
    "    l = []\n",
    "    size = model.size\n",
    "    for i in range(iters):\n",
    "        test_game = Gridworld(mode = mode, size = size)\n",
    "        for j in range(50):\n",
    "            state = get_game_state(test_game, size)\n",
    "            reward = test_game.reward()\n",
    "            if reward != -1:\n",
    "                l.append(float(reward == 10))\n",
    "                break\n",
    "            action, _ = model(state)\n",
    "            test_game.makeMove(action_map[action]) \n",
    "        else:\n",
    "            l.append(0.)\n",
    "    return sum(l)/iters"
   ]
  },
  {
   "cell_type": "code",
   "execution_count": 57,
   "metadata": {},
   "outputs": [],
   "source": [
    "def basic_train(model, loss_fn, iterations, lr = 1e-03, gamma = 0.9, mode = 'static'):\n",
    "    optimizer = torch.optim.Adam(model.parameters(), lr = lr)\n",
    "    losses = []\n",
    "    for i in tqdm(range(iterations)):\n",
    "        game = Gridworld(size = size, mode = mode)\n",
    "        state1 = get_game_state(game, size)\n",
    "        while True:\n",
    "            action, qvals = model(state1)\n",
    "            game.makeMove(action_map[action])\n",
    "            state2 = get_game_state(game, size)\n",
    "            reward = game.reward()\n",
    "            with torch.no_grad():\n",
    "                action2, qvals2 = model(state2)\n",
    "            max_q = torch.max(qvals2)\n",
    "            if reward == -1:\n",
    "                Y = reward + gamma * max_q\n",
    "            else:\n",
    "                Y = reward\n",
    "            tar = torch.Tensor([Y]).squeeze()\n",
    "            inp = qvals.squeeze()[action]\n",
    "            loss = loss_fn(inp, tar)\n",
    "            optimizer.zero_grad()\n",
    "            loss.backward()\n",
    "            optimizer.step()\n",
    "            state1 = state2\n",
    "            losses.append(loss.item())\n",
    "            if reward != -1:\n",
    "                break\n",
    "        model.decrement_epsilon()\n",
    "    return losses"
   ]
  },
  {
   "cell_type": "code",
   "execution_count": 58,
   "metadata": {
    "scrolled": true
   },
   "outputs": [
    {
     "data": {
      "application/vnd.jupyter.widget-view+json": {
       "model_id": "bef54a3c1a2d40449e573680ed8cf419",
       "version_major": 2,
       "version_minor": 0
      },
      "text/plain": [
       "HBox(children=(FloatProgress(value=0.0, max=1000.0), HTML(value='')))"
      ]
     },
     "metadata": {},
     "output_type": "display_data"
    },
    {
     "name": "stdout",
     "output_type": "stream",
     "text": [
      "\n"
     ]
    },
    {
     "data": {
      "image/png": "[encoded data removed]",
      "text/plain": [
       "<Figure size 432x288 with 1 Axes>"
      ]
     },
     "metadata": {
      "needs_background": "light"
     },
     "output_type": "display_data"
    }
   ],
   "source": [
    "iterations = 1000\n",
    "model0 = GridQNet(size)\n",
    "size = 4\n",
    "losses = basic_train(model0, loss_fn, iterations, lr, gamma)\n",
    "plt.plot(losses)\n",
    "plt.show()"
   ]
  },
  {
   "cell_type": "code",
   "execution_count": 10,
   "metadata": {},
   "outputs": [],
   "source": [
    "from collections import deque\n",
    "import random\n",
    "\n",
    "def experience_replay_train(\n",
    "    model,\n",
    "    loss_fn,\n",
    "    iterations,\n",
    "    lr = 1e-03,\n",
    "    gamma = 0.9,\n",
    "    mode = 'random',\n",
    "    mem_size = 1000,\n",
    "    batch_size = 200,\n",
    "    max_game_iter = 50):\n",
    "    optimizer = torch.optim.Adam(model.parameters(), lr = lr)\n",
    "    losses = []\n",
    "    memory = deque(maxlen = mem_size)\n",
    "    for i in tqdm(range(iterations)):\n",
    "        game = Gridworld(size = size, mode = mode)\n",
    "        state1 = get_game_state(game, size)\n",
    "        for _ in range(max_game_iter):\n",
    "            action, qvals = model(state1)\n",
    "            game.makeMove(action_map[action])\n",
    "            state2 = get_game_state(game, size)\n",
    "            reward = game.reward()\n",
    "            with torch.no_grad():\n",
    "                action2, qvals2 = model(state2)\n",
    "            max_q = torch.max(qvals2)\n",
    "            \n",
    "            done = reward != -1\n",
    "            \n",
    "            memory.append([action, state1, state2, reward, done])\n",
    "            state1 = state2\n",
    "            if len(memory) > batch_size:\n",
    "                minibatch = random.sample(memory, batch_size)\n",
    "                s1b = torch.cat([s1 for (a, s1, s2, r, d) in minibatch])\n",
    "                s2b = torch.cat([s2 for (a, s1, s2, r, d) in minibatch])\n",
    "                rb = torch.tensor([r for (a, s1, s2, r, d) in minibatch], dtype = torch.float32)\n",
    "                ab = torch.tensor([a for (a, s1, s2, r, d) in minibatch], dtype = torch.long).reshape(-1, 1)\n",
    "                db = torch.tensor([d for (a, s1, s2, r, d) in minibatch], dtype = torch.int)\n",
    "                \n",
    "                _, q1 = model(s1b)\n",
    "                with torch.no_grad():\n",
    "                    action2, qvals2 = model(s2b)\n",
    "                tar = rb + gamma * torch.max(qvals2, dim = 1).values * (1 - db)\n",
    "                inp = q1.gather(dim = 1, index = ab).squeeze()\n",
    "                loss = loss_fn(inp, tar)\n",
    "                optimizer.zero_grad()\n",
    "                loss.backward()\n",
    "                optimizer.step()\n",
    "                losses.append(loss.item())\n",
    "            if reward != -1:\n",
    "                break\n",
    "        model.decrement_epsilon()\n",
    "    return losses"
   ]
  },
  {
   "cell_type": "code",
   "execution_count": 11,
   "metadata": {
    "scrolled": false
   },
   "outputs": [
    {
     "data": {
      "application/vnd.jupyter.widget-view+json": {
       "model_id": "b38f38adcb014868805ae409d131eb6a",
       "version_major": 2,
       "version_minor": 0
      },
      "text/plain": [
       "HBox(children=(FloatProgress(value=0.0, max=5000.0), HTML(value='')))"
      ]
     },
     "metadata": {},
     "output_type": "display_data"
    },
    {
     "name": "stdout",
     "output_type": "stream",
     "text": [
      "\n"
     ]
    },
    {
     "data": {
      "image/png": "[encoded data removed]",
      "text/plain": [
       "<Figure size 432x288 with 1 Axes>"
      ]
     },
     "metadata": {
      "needs_background": "light"
     },
     "output_type": "display_data"
    },
    {
     "name": "stdout",
     "output_type": "stream",
     "text": [
      "CPU times: user 46min 8s, sys: 30min 47s, total: 1h 16min 56s\n",
      "Wall time: 7min 27s\n"
     ]
    }
   ],
   "source": [
    "%%time\n",
    "iterations = 5000\n",
    "size = 4\n",
    "model1 = GridQNet(size)\n",
    "\n",
    "losses = experience_replay_train(model1, loss_fn, iterations, lr, gamma)\n",
    "plt.plot(losses)\n",
    "plt.show()"
   ]
  },
  {
   "cell_type": "code",
   "execution_count": 59,
   "metadata": {},
   "outputs": [],
   "source": [
    "import copy\n",
    "\n",
    "def target_network_train(\n",
    "    model,\n",
    "    loss_fn,\n",
    "    iterations,\n",
    "    lr = 1e-03,\n",
    "    gamma = 0.9,\n",
    "    mode = 'random',\n",
    "    mem_size = 1000,\n",
    "    batch_size = 200,\n",
    "    max_game_iter = 50,\n",
    "    sync_freq = 500):\n",
    "    \n",
    "    optimizer = torch.optim.Adam(model.parameters(), lr = lr)\n",
    "    losses = []\n",
    "    memory = deque(maxlen = mem_size)\n",
    "    \n",
    "    target_model = copy.deepcopy(model)\n",
    "    target_model.load_state_dict(model.state_dict())\n",
    "    \n",
    "    j = 0\n",
    "    \n",
    "    for i in tqdm(range(iterations)):\n",
    "        game = Gridworld(size = size, mode = mode)\n",
    "        state1 = get_game_state(game, size)\n",
    "        for _ in range(max_game_iter):\n",
    "            j += 1\n",
    "            action, qvals = model(state1)\n",
    "            game.makeMove(action_map[action])\n",
    "            state2 = get_game_state(game, size)\n",
    "            reward = game.reward()\n",
    "            with torch.no_grad():\n",
    "                action2, qvals2 = model(state2)\n",
    "            max_q = torch.max(qvals2)\n",
    "            \n",
    "            done = reward != -1\n",
    "            \n",
    "            memory.append([action, state1, state2, reward, done])\n",
    "            state1 = state2\n",
    "            if len(memory) > batch_size:\n",
    "                minibatch = random.sample(memory, batch_size)\n",
    "                s1b = torch.cat([s1 for (a, s1, s2, r, d) in minibatch])\n",
    "                s2b = torch.cat([s2 for (a, s1, s2, r, d) in minibatch])\n",
    "                rb = torch.tensor([r for (a, s1, s2, r, d) in minibatch], dtype = torch.float32)\n",
    "                ab = torch.tensor([a for (a, s1, s2, r, d) in minibatch], dtype = torch.long).reshape(-1, 1)\n",
    "                db = torch.tensor([d for (a, s1, s2, r, d) in minibatch], dtype = torch.int)\n",
    "                \n",
    "                _, q1 = model(s1b)\n",
    "                with torch.no_grad():\n",
    "                    action2, qvals2 = target_model(s2b)\n",
    "                \n",
    "                tar = rb + gamma * torch.max(qvals2, dim = 1).values * (1 - db)\n",
    "                inp = q1.gather(dim = 1, index = ab).squeeze()\n",
    "                loss = loss_fn(inp, tar)\n",
    "                optimizer.zero_grad()\n",
    "                loss.backward()\n",
    "                optimizer.step()\n",
    "                losses.append(loss.item())\n",
    "                \n",
    "                if j % sync_freq == 0:\n",
    "                    target_model.load_state_dict(model.state_dict())\n",
    "            if reward != -1:\n",
    "                break\n",
    "        model.decrement_epsilon()\n",
    "    return losses"
   ]
  },
  {
   "cell_type": "code",
   "execution_count": 61,
   "metadata": {},
   "outputs": [
    {
     "data": {
      "application/vnd.jupyter.widget-view+json": {
       "model_id": "1783b18512464423bb35e49b7d243c8b",
       "version_major": 2,
       "version_minor": 0
      },
      "text/plain": [
       "HBox(children=(FloatProgress(value=0.0, max=5000.0), HTML(value='')))"
      ]
     },
     "metadata": {},
     "output_type": "display_data"
    },
    {
     "name": "stdout",
     "output_type": "stream",
     "text": [
      "\n"
     ]
    },
    {
     "data": {
      "application/vnd.jupyter.widget-view+json": {
       "model_id": "17e8edf91f55487fb6ffcd60a4f179cf",
       "version_major": 2,
       "version_minor": 0
      },
      "text/plain": [
       "HBox(children=(FloatProgress(value=0.0, max=5000.0), HTML(value='')))"
      ]
     },
     "metadata": {},
     "output_type": "display_data"
    },
    {
     "name": "stdout",
     "output_type": "stream",
     "text": [
      "\n"
     ]
    },
    {
     "data": {
      "application/vnd.jupyter.widget-view+json": {
       "model_id": "ab3988f344324a1ab511bddd401267d5",
       "version_major": 2,
       "version_minor": 0
      },
      "text/plain": [
       "HBox(children=(FloatProgress(value=0.0, max=5000.0), HTML(value='')))"
      ]
     },
     "metadata": {},
     "output_type": "display_data"
    },
    {
     "name": "stdout",
     "output_type": "stream",
     "text": [
      "\n"
     ]
    },
    {
     "data": {
      "application/vnd.jupyter.widget-view+json": {
       "model_id": "37cd6b5b31ce4e7db1b1743766342d1d",
       "version_major": 2,
       "version_minor": 0
      },
      "text/plain": [
       "HBox(children=(FloatProgress(value=0.0, max=5000.0), HTML(value='')))"
      ]
     },
     "metadata": {},
     "output_type": "display_data"
    },
    {
     "name": "stdout",
     "output_type": "stream",
     "text": [
      "\n",
      "CPU times: user 3h 5min 4s, sys: 2h 2min 13s, total: 5h 7min 18s\n",
      "Wall time: 29min 28s\n"
     ]
    }
   ],
   "source": [
    "%%time\n",
    "iterations = 5000\n",
    "size = 4\n",
    "\n",
    "sync_freqs = [50, 100, 300, 500]\n",
    "models = []\n",
    "all_losses = []\n",
    "for sync_freq in sync_freqs:\n",
    "    model2 = GridQNet(size)\n",
    "    losses = target_network_train(model2, loss_fn, iterations, lr, gamma, sync_freq = sync_freq)\n",
    "    models.append(model2)\n",
    "    all_losses.append(losses)"
   ]
  },
  {
   "cell_type": "code",
   "execution_count": 67,
   "metadata": {},
   "outputs": [
    {
     "data": {
      "text/plain": [
       "[<matplotlib.lines.Line2D at 0x7f67bdfef780>]"
      ]
     },
     "execution_count": 67,
     "metadata": {},
     "output_type": "execute_result"
    },
    {
     "data": {
      "image/png": "[encoded data removed]",
      "text/plain": [
       "<Figure size 432x288 with 1 Axes>"
      ]
     },
     "metadata": {
      "needs_background": "light"
     },
     "output_type": "display_data"
    }
   ],
   "source": [
    "plt.plot(all_losses[3])"
   ]
  },
  {
   "cell_type": "code",
   "execution_count": 66,
   "metadata": {},
   "outputs": [
    {
     "name": "stdout",
     "output_type": "stream",
     "text": [
      "0.878\n",
      "0.853\n",
      "0.923\n",
      "0.93\n"
     ]
    }
   ],
   "source": [
    "for model in models:\n",
    "    print(benchmark_model(model))"
   ]
  },
  {
   "cell_type": "code",
   "execution_count": 55,
   "metadata": {},
   "outputs": [],
   "source": [
    "old_models = models\n",
    "old_losses = all_losses"
   ]
  },
  {
   "cell_type": "code",
   "execution_count": null,
   "metadata": {},
   "outputs": [],
   "source": []
  }
 ],
 "metadata": {
  "kernelspec": {
   "display_name": "Python 3",
   "language": "python",
   "name": "python3"
  },
  "language_info": {
   "codemirror_mode": {
    "name": "ipython",
    "version": 3
   },
   "file_extension": ".py",
   "mimetype": "text/x-python",
   "name": "python",
   "nbconvert_exporter": "python",
   "pygments_lexer": "ipython3",
   "version": "3.7.3"
  }
 },
 "nbformat": 4,
 "nbformat_minor": 2
}
